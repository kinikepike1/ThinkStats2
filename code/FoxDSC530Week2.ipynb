{
 "cells": [
  {
   "cell_type": "code",
   "execution_count": 1,
   "id": "78f69359",
   "metadata": {},
   "outputs": [
    {
     "data": {
      "text/plain": [
       "'Hello World! My name is Kinnick.'"
      ]
     },
     "execution_count": 1,
     "metadata": {},
     "output_type": "execute_result"
    }
   ],
   "source": [
    "\"Hello World! My name is Kinnick.\""
   ]
  },
  {
   "cell_type": "code",
   "execution_count": 2,
   "id": "bf332e10",
   "metadata": {},
   "outputs": [
    {
     "data": {
      "text/plain": [
       "9"
      ]
     },
     "execution_count": 2,
     "metadata": {},
     "output_type": "execute_result"
    }
   ],
   "source": [
    "5 + 4"
   ]
  },
  {
   "cell_type": "code",
   "execution_count": 3,
   "id": "7f27377e",
   "metadata": {},
   "outputs": [
    {
     "data": {
      "text/plain": [
       "4"
      ]
     },
     "execution_count": 3,
     "metadata": {},
     "output_type": "execute_result"
    }
   ],
   "source": [
    "6 - 2"
   ]
  },
  {
   "cell_type": "code",
   "execution_count": 4,
   "id": "52f56d55",
   "metadata": {},
   "outputs": [
    {
     "data": {
      "text/plain": [
       "36"
      ]
     },
     "execution_count": 4,
     "metadata": {},
     "output_type": "execute_result"
    }
   ],
   "source": [
    "6 * 6"
   ]
  },
  {
   "cell_type": "code",
   "execution_count": 5,
   "id": "51d0303c",
   "metadata": {},
   "outputs": [
    {
     "data": {
      "text/plain": [
       "7.0"
      ]
     },
     "execution_count": 5,
     "metadata": {},
     "output_type": "execute_result"
    }
   ],
   "source": [
    "49 / 7"
   ]
  },
  {
   "cell_type": "code",
   "execution_count": 6,
   "id": "ded9e004",
   "metadata": {},
   "outputs": [
    {
     "data": {
      "text/plain": [
       "'somewhat'"
      ]
     },
     "execution_count": 6,
     "metadata": {},
     "output_type": "execute_result"
    }
   ],
   "source": [
    "\"some\" + \"what\""
   ]
  },
  {
   "cell_type": "code",
   "execution_count": 15,
   "id": "38662701",
   "metadata": {},
   "outputs": [],
   "source": [
    "list = [9,4,36,7.0]"
   ]
  },
  {
   "cell_type": "code",
   "execution_count": 17,
   "id": "0445fc3c",
   "metadata": {},
   "outputs": [],
   "source": [
    "list.append(6)"
   ]
  },
  {
   "cell_type": "code",
   "execution_count": 18,
   "id": "7ae261bb",
   "metadata": {},
   "outputs": [
    {
     "data": {
      "text/plain": [
       "[9, 4, 36, 7.0, 6]"
      ]
     },
     "execution_count": 18,
     "metadata": {},
     "output_type": "execute_result"
    }
   ],
   "source": [
    "list"
   ]
  },
  {
   "cell_type": "code",
   "execution_count": 19,
   "id": "e6fa996b",
   "metadata": {},
   "outputs": [
    {
     "data": {
      "text/plain": [
       "{4, 43.57, 6, 'apple'}"
      ]
     },
     "execution_count": 19,
     "metadata": {},
     "output_type": "execute_result"
    }
   ],
   "source": [
    "{'apple',6,43.57,list[1]}"
   ]
  },
  {
   "cell_type": "code",
   "execution_count": null,
   "id": "bd20f7ee",
   "metadata": {},
   "outputs": [],
   "source": []
  }
 ],
 "metadata": {
  "kernelspec": {
   "display_name": "Python 3 (ipykernel)",
   "language": "python",
   "name": "python3"
  },
  "language_info": {
   "codemirror_mode": {
    "name": "ipython",
    "version": 3
   },
   "file_extension": ".py",
   "mimetype": "text/x-python",
   "name": "python",
   "nbconvert_exporter": "python",
   "pygments_lexer": "ipython3",
   "version": "3.9.13"
  }
 },
 "nbformat": 4,
 "nbformat_minor": 5
}
